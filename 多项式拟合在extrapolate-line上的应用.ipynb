{
 "cells": [
  {
   "cell_type": "markdown",
   "metadata": {},
   "source": [
    "## 场景说明\n",
    "\n",
    "在进行车道线检测时，检测出来的通常是一系列的线段。所以，我需要将线段连接起来，即Extrapolate Line。\n",
    "下面我就来简单说下几种extrapolate line的方法。"
   ]
  },
  {
   "cell_type": "markdown",
   "metadata": {},
   "source": [
    "### 引用模块\n",
    "\n",
    "需要用到的模块，统一引用如下。"
   ]
  },
  {
   "cell_type": "code",
   "execution_count": null,
   "metadata": {},
   "outputs": [],
   "source": [
    "import numpy as np\n",
    "import matplotlib.pyplot as plt"
   ]
  },
  {
   "cell_type": "markdown",
   "metadata": {},
   "source": [
    "### 原始数据"
   ]
  },
  {
   "cell_type": "code",
   "execution_count": 10,
   "metadata": {},
   "outputs": [],
   "source": [
    "# 数据格式：x1,y1,x2,y2;...\n",
    "# 即每一个line segment由(x1,y1), (x2,y2)表示；segment之间由`;`区分\n",
    "points = \"183,535,344,410;162,538,436,339;713,446,873,538;702,448,852,538;362,398,409,362;521,333,544,346;411,362,438,341;162,539,437,339;569,365,585,375;570,363,591,374;701,446,717,456;710,445,746,466;572,363,588,372;315,434,387,378;177,538,189,530;569,364,589,376;709,452,742,471;574,363,591,373;847,524,873,539;405,366,415,358;219,506,244,487;723,452,786,489;815,515,834,527;185,532,195,525;243,487,304,442;793,493,853,527\""
   ]
  },
  {
   "cell_type": "markdown",
   "metadata": {},
   "source": [
    "### 观察数据特点\n",
    "\n",
    "我使用散点图观察数据。"
   ]
  },
  {
   "cell_type": "code",
   "execution_count": 12,
   "metadata": {},
   "outputs": [
    {
     "data": {
      "image/png": "[encoded data removed]",
      "text/plain": [
       "<matplotlib.figure.Figure at 0x7f6abff20c88>"
      ]
     },
     "metadata": {
      "needs_background": "light"
     },
     "output_type": "display_data"
    }
   ],
   "source": [
    "points = []\n",
    "X = []  # x point collection\n",
    "Y = []  # y point collection\n",
    "\n",
    "for l in lines:\n",
    "    p = list(map(lambda item: int(item),l.split(\",\")))\n",
    "    points.append(p)\n",
    "    X.append(p[0])\n",
    "    X.append(p[2])\n",
    "    Y.append(p[1])\n",
    "    Y.append(p[3])\n",
    "\n",
    "import matplotlib.pyplot as plt\n",
    "\n",
    "plt.scatter(X, Y)\n",
    "plt.savefig(\"line_points.png\")"
   ]
  },
  {
   "cell_type": "markdown",
   "metadata": {},
   "source": [
    "对于实际场景而言，车道线是反过来的，即以X轴向上翻转180度。因为，摄像头拍的图片，其坐标是在左上角的。但不防碍我们的学习。\n",
    "\n",
    "通过观察发现，图中的主要为两条，分为左边线和右边线。这也符合车载摄像头的视角。所以，需要先将线段聚类。\n",
    "\n",
    "我选择使用斜率slope来区分左边线和右边线。slope为负则为左边线，slope为正，则为右边线。"
   ]
  },
  {
   "cell_type": "markdown",
   "metadata": {},
   "source": [
    "### 聚类"
   ]
  },
  {
   "cell_type": "markdown",
   "metadata": {},
   "source": [
    "我选择使用斜率slope来区分左边线和右边线。slope为负则为左边线，slope为正，则为右边线。"
   ]
  },
  {
   "cell_type": "code",
   "execution_count": 13,
   "metadata": {},
   "outputs": [
    {
     "data": {
      "image/png": "[encoded data removed]",
      "text/plain": [
       "<matplotlib.figure.Figure at 0x7f6abfeb8208>"
      ]
     },
     "metadata": {
      "needs_background": "light"
     },
     "output_type": "display_data"
    }
   ],
   "source": [
    "left_x = []  # 左边线X集合\n",
    "left_y = []  # 右边线Y集合\n",
    "right_x = []  # 右边线X集合\n",
    "right_y = []  # 右边线Y集合\n",
    "for p in points:\n",
    "    if p[2] == p[0]:\n",
    "        continue\n",
    "\n",
    "    slope = (p[3] - p[1]) / (p[2] - p[0])\n",
    "    if slope < 0:\n",
    "        left_x.append(p[0])\n",
    "        left_x.append(p[2])\n",
    "        left_y.append(p[1])\n",
    "        left_y.append(p[3])\n",
    "    else:\n",
    "        right_x.append(p[0])\n",
    "        right_x.append(p[2])\n",
    "        right_y.append(p[1])\n",
    "        right_y.append(p[3])\n",
    "\n",
    "import matplotlib.pyplot as plt\n",
    "\n",
    "plt.scatter(left_x, left_y)\n",
    "plt.savefig(\"line_points.png\")"
   ]
  },
  {
   "cell_type": "markdown",
   "metadata": {},
   "source": [
    "### 多项式拟合\n",
    "\n",
    "多项式可以用于表达直线以及曲线，功能强大。我选择使用多项式拟合直线。\n",
    "\n",
    "```math\n",
    "f(x) = p_0 + p_1*x^1 + p_2*x^2 + ...\n",
    "```"
   ]
  },
  {
   "cell_type": "markdown",
   "metadata": {},
   "source": [
    "[numpy polyfit多项式拟合帮助文档](https://docs.scipy.org/doc/numpy-1.15.0/reference/generated/numpy.polyfit.html)"
   ]
  },
  {
   "cell_type": "code",
   "execution_count": 27,
   "metadata": {},
   "outputs": [
    {
     "data": {
      "image/png": "[encoded data removed]",
      "text/plain": [
       "<matplotlib.figure.Figure at 0x7f6abfc94198>"
      ]
     },
     "metadata": {
      "needs_background": "light"
     },
     "output_type": "display_data"
    }
   ],
   "source": [
    "import numpy as np\n",
    "z = np.polyfit(left_x, left_y, deg=1)\n",
    "p = np.poly1d(z)\n",
    "left_y_s = list(map(lambda x: [x, p(x)], left_x))\n",
    "plt.scatter(left_x, left_y)\n",
    "plt.scatter(left_x, [int(y[1]) for y in left_y_s])\n",
    "plt.savefig(\"x.png\")"
   ]
  },
  {
   "cell_type": "markdown",
   "metadata": {},
   "source": [
    "## Draw line"
   ]
  },
  {
   "cell_type": "code",
   "execution_count": 30,
   "metadata": {},
   "outputs": [],
   "source": [
    "# 获取直线的两端\n",
    "min_index = np.argmin(left_y_s, axis=0)[1]\n",
    "max_index = np.argmax(left_y_s, axis=0)[1]\n",
    "min_point = left_y_s[min_index]\n",
    "max_point = left_y_s[max_index]"
   ]
  },
  {
   "cell_type": "code",
   "execution_count": 29,
   "metadata": {},
   "outputs": [
    {
     "data": {
      "image/png": "[encoded data removed]",
      "text/plain": [
       "<matplotlib.figure.Figure at 0x7f6abfc24e48>"
      ]
     },
     "metadata": {
      "needs_background": "light"
     },
     "output_type": "display_data"
    }
   ],
   "source": [
    "import numpy as np\n",
    "left_X = np.linspace(max_point[0], min_point[0], int(min_point[0] - max_point[0]))\n",
    "left_Y = list(map(lambda x: p(x), left_X))\n",
    "plt.scatter(left_x, left_y)\n",
    "plt.scatter(left_x, [int(y[1]) for y in left_y_s])\n",
    "plt.scatter(left_X, left_Y)\n",
    "plt.savefig(\"x.png\")"
   ]
  },
  {
   "cell_type": "markdown",
   "metadata": {},
   "source": [
    "## 总结\n",
    "\n",
    "本文处理extrapolate line的pipeline如下:\n",
    "* 初步观察数据特点\n",
    "* 基于slope聚类\n",
    "* 多项式拟合(numpy.ployfit)\n",
    "* 作图，直观看下效果"
   ]
  }
 ],
 "metadata": {
  "kernelspec": {
   "display_name": "Python 3",
   "language": "python",
   "name": "python3"
  },
  "language_info": {
   "codemirror_mode": {
    "name": "ipython",
    "version": 3
   },
   "file_extension": ".py",
   "mimetype": "text/x-python",
   "name": "python",
   "nbconvert_exporter": "python",
   "pygments_lexer": "ipython3",
   "version": "3.5.2"
  },
  "widgets": {
   "state": {},
   "version": "1.1.2"
  }
 },
 "nbformat": 4,
 "nbformat_minor": 2
}
